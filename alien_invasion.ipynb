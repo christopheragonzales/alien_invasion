{
 "cells": [],
 "metadata": {
  "kernelspec": {
   "display_name": "Alien Invasion Env",
   "language": "python",
   "name": "alien_invasion"
  },
  "language_info": {
   "name": "python",
   "version": "3.12.7"
  }
 },
 "nbformat": 4,
 "nbformat_minor": 2
}
